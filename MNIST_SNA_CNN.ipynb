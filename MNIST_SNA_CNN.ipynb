{
  "nbformat": 4,
  "nbformat_minor": 0,
  "metadata": {
    "colab": {
      "provenance": [],
      "include_colab_link": true
    },
    "kernelspec": {
      "name": "python3",
      "display_name": "Python 3"
    },
    "accelerator": "GPU"
  },
  "cells": [
    {
      "cell_type": "markdown",
      "metadata": {
        "id": "view-in-github",
        "colab_type": "text"
      },
      "source": [
        "<a href=\"https://colab.research.google.com/github/GuidoGiacomoMussini/SocialNetworkAnalysis--Algorithm/blob/main/MNIST_SNA_CNN.ipynb\" target=\"_parent\"><img src=\"https://colab.research.google.com/assets/colab-badge.svg\" alt=\"Open In Colab\"/></a>"
      ]
    },
    {
      "cell_type": "markdown",
      "source": [
        "Code adapted from: https://colab.research.google.com/github/AvivSham/Pytorch-MNIST-colab/blob/master/Pytorch_MNIST.ipynb"
      ],
      "metadata": {
        "id": "Ndn9I1ND2671"
      }
    },
    {
      "metadata": {
        "id": "PtKvmZx-WmUu",
        "cellView": "form"
      },
      "cell_type": "code",
      "source": [
        "#@title Insatlling Pyorch\n",
        "\n",
        "!pip install torch\n",
        "!pip install torchvision"
      ],
      "execution_count": null,
      "outputs": []
    },
    {
      "metadata": {
        "id": "bGU6NwlsXFSt",
        "cellView": "form"
      },
      "cell_type": "code",
      "source": [
        "#@title Import Dependencies\n",
        "\n",
        "import torch\n",
        "import torch.nn as nn\n",
        "import torchvision.datasets as dsets\n",
        "import torchvision.transforms as transforms\n",
        "from torch.autograd import Variable"
      ],
      "execution_count": null,
      "outputs": []
    },
    {
      "metadata": {
        "id": "_bNfVLRUYqZA",
        "cellView": "form"
      },
      "cell_type": "code",
      "source": [
        "#@title Define Hyperparameters\n",
        "\n",
        "input_size = 784 # img_size = (28,28) ---> 28*28=784 in total\n",
        "hidden_size = 500 # number of nodes at hidden layer\n",
        "num_classes = 10 # number of output classes discrete range [0,9]\n",
        "num_epochs = 20 # number of times which the entire dataset is passed throughout the model\n",
        "batch_size = 100 # the size of input data took for one iteration\n",
        "lr = 1e-3 # size of step "
      ],
      "execution_count": null,
      "outputs": []
    },
    {
      "metadata": {
        "id": "lCsBCXMwbpH5",
        "cellView": "form"
      },
      "cell_type": "code",
      "source": [
        "#@title Downloading MNIST data\n",
        "import torchvision\n",
        "train_data = dsets.MNIST(root = './data', train = True,\n",
        "                        transform=transforms.Compose([\n",
        "                       transforms.ToTensor()]), download = True)\n",
        "\n",
        "test_data = dsets.MNIST(root = './data', train = False,\n",
        "                       transform=transforms.Compose([\n",
        "                       transforms.ToTensor()]))\n",
        "\n",
        "flip_data = dsets.MNIST(root = './data', train = False,\n",
        "                       transform=transforms.Compose([\n",
        "                       transforms.ToTensor(), \n",
        "                       torchvision.transforms.RandomHorizontalFlip(p=1)]))\n",
        "                       "
      ],
      "execution_count": null,
      "outputs": []
    },
    {
      "metadata": {
        "id": "rfDPBdnYgfGp",
        "cellView": "form"
      },
      "cell_type": "code",
      "source": [
        "#@title Loading the data\n",
        "\n",
        "train_gen = torch.utils.data.DataLoader(dataset = train_data,\n",
        "                                             batch_size = batch_size,\n",
        "                                             shuffle = True)\n",
        "\n",
        "test_gen = torch.utils.data.DataLoader(dataset = test_data,\n",
        "                                      batch_size = batch_size, \n",
        "                                      shuffle = False)\n",
        "\n",
        "flip_gen = torch.utils.data.DataLoader(dataset = flip_data,\n",
        "                                      batch_size = batch_size, \n",
        "                                      shuffle = False)"
      ],
      "execution_count": null,
      "outputs": []
    },
    {
      "metadata": {
        "id": "fL-YXTvghaz_",
        "cellView": "form"
      },
      "cell_type": "code",
      "source": [
        "#@title Define model class\n",
        "\n",
        "class Net(nn.Module):\n",
        "  def __init__(self, input_size, hidden_size, num_classes):\n",
        "    super(Net,self).__init__()\n",
        "    self.fc1 = nn.Linear(input_size, hidden_size)\n",
        "    self.relu = nn.ReLU()\n",
        "    self.fc2 = nn.Linear(hidden_size, num_classes)\n",
        "  \n",
        "  def forward(self,x):\n",
        "    out = self.fc1(x)\n",
        "    out = self.relu(out)\n",
        "    out = self.fc2(out)\n",
        "    return out"
      ],
      "execution_count": null,
      "outputs": []
    },
    {
      "metadata": {
        "id": "-3EPEqbjjfAT",
        "cellView": "form"
      },
      "cell_type": "code",
      "source": [
        "#@title Build the model\n",
        "\n",
        "net = Net(input_size, hidden_size, num_classes)\n",
        "if torch.cuda.is_available():\n",
        "  net.cuda()"
      ],
      "execution_count": null,
      "outputs": []
    },
    {
      "metadata": {
        "id": "ePLIwvAFj2zH",
        "cellView": "form"
      },
      "cell_type": "code",
      "source": [
        "#@title Define loss-function & optimizer\n",
        "\n",
        "loss_function = nn.CrossEntropyLoss()\n",
        "optimizer = torch.optim.Adam( net.parameters(), lr=lr)"
      ],
      "execution_count": null,
      "outputs": []
    },
    {
      "metadata": {
        "id": "u75Xa5VckuTH",
        "cellView": "form"
      },
      "cell_type": "code",
      "source": [
        "#@title Training the model\n",
        "from tqdm import tqdm_notebook\n",
        "for epoch in tqdm_notebook(range(num_epochs)):\n",
        "  for i ,(images,labels) in enumerate(train_gen):\n",
        "    images = Variable(images.view(-1,28*28)).cuda()\n",
        "    labels = Variable(labels).cuda()\n",
        "    \n",
        "    optimizer.zero_grad()\n",
        "    outputs = net(images)\n",
        "    loss = loss_function(outputs, labels)\n",
        "    loss.backward()\n",
        "    optimizer.step()\n"
      ],
      "execution_count": null,
      "outputs": []
    },
    {
      "metadata": {
        "id": "DTPvMW5jHB9X",
        "cellView": "form"
      },
      "cell_type": "code",
      "source": [
        "#@title Evaluating the accuracy of the TEST model\n",
        "\n",
        "correct = 0\n",
        "total = 0\n",
        "for images,labels in test_gen:\n",
        "  images = Variable(images.view(-1,28*28)).cuda()\n",
        "  labels = labels.cuda()\n",
        "  \n",
        "  output = net(images)\n",
        "  _, predicted = torch.max(output,1)\n",
        "  correct += (predicted == labels).sum()\n",
        "  total += labels.size(0)\n",
        "\n",
        "print('Accuracy in the TEST: %.3f %%' %((100*correct)/(total+1)))"
      ],
      "execution_count": null,
      "outputs": []
    },
    {
      "cell_type": "code",
      "source": [
        "#@title Evaluating the accuracy of the FLIP-TEST model\n",
        "\n",
        "correct = 0\n",
        "total = 0\n",
        "for images,labels in flip_gen:\n",
        "  images = Variable(images.view(-1,28*28)).cuda()\n",
        "  labels = labels.cuda()\n",
        "  \n",
        "  output = net(images)\n",
        "  _, predicted = torch.max(output,1)\n",
        "  correct += (predicted == labels).sum()\n",
        "  total += labels.size(0)\n",
        "\n",
        "print('Accuracy in the FLIP: %.3f %%' %((100*correct)/(total+1)))"
      ],
      "metadata": {
        "id": "kdHGTCwAwivU",
        "cellView": "form"
      },
      "execution_count": null,
      "outputs": []
    },
    {
      "cell_type": "code",
      "source": [
        "#normal: 98.12\n",
        "#flip: 39.236"
      ],
      "metadata": {
        "id": "LFofR7JD2jx5"
      },
      "execution_count": null,
      "outputs": []
    }
  ]
}