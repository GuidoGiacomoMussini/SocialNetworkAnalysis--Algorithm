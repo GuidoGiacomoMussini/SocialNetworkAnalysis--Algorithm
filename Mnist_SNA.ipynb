{
  "nbformat": 4,
  "nbformat_minor": 0,
  "metadata": {
    "colab": {
      "provenance": [],
      "collapsed_sections": [
        "cltHRsg03gRx",
        "DDYYLpIa3qkl",
        "p_0S2gvX3vNN",
        "5xDvVOGM32nr",
        "3DLeUzjD4-tR",
        "zBwP1JBW5Hso",
        "sCHLR15r5gn-",
        "KDseHQ0q5r7k",
        "FV681OZJ52am",
        "yunbkPQV6BdC"
      ],
      "authorship_tag": "ABX9TyOZDV7FnQm5BMO7qivxwSC6",
      "include_colab_link": true
    },
    "kernelspec": {
      "name": "python3",
      "display_name": "Python 3"
    },
    "language_info": {
      "name": "python"
    },
    "widgets": {
      "application/vnd.jupyter.widget-state+json": {
        "fdb5f5e46e224eebb3c6b95bb3966290": {
          "model_module": "@jupyter-widgets/controls",
          "model_name": "HBoxModel",
          "model_module_version": "1.5.0",
          "state": {
            "_dom_classes": [],
            "_model_module": "@jupyter-widgets/controls",
            "_model_module_version": "1.5.0",
            "_model_name": "HBoxModel",
            "_view_count": null,
            "_view_module": "@jupyter-widgets/controls",
            "_view_module_version": "1.5.0",
            "_view_name": "HBoxView",
            "box_style": "",
            "children": [
              "IPY_MODEL_77a3459924a347b9a1c0eebb112250e4",
              "IPY_MODEL_076561c8d28b4a19a8f922a9f711abd5",
              "IPY_MODEL_5589359eb3f446098c7c3b8aa2989cc8"
            ],
            "layout": "IPY_MODEL_f793aa4512794ff7aa4ad283571720df"
          }
        },
        "77a3459924a347b9a1c0eebb112250e4": {
          "model_module": "@jupyter-widgets/controls",
          "model_name": "HTMLModel",
          "model_module_version": "1.5.0",
          "state": {
            "_dom_classes": [],
            "_model_module": "@jupyter-widgets/controls",
            "_model_module_version": "1.5.0",
            "_model_name": "HTMLModel",
            "_view_count": null,
            "_view_module": "@jupyter-widgets/controls",
            "_view_module_version": "1.5.0",
            "_view_name": "HTMLView",
            "description": "",
            "description_tooltip": null,
            "layout": "IPY_MODEL_df74bef57b644d3fac291f64e4f709a1",
            "placeholder": "​",
            "style": "IPY_MODEL_89a34dcc40a945bf84252bba735dcfe6",
            "value": "100%"
          }
        },
        "076561c8d28b4a19a8f922a9f711abd5": {
          "model_module": "@jupyter-widgets/controls",
          "model_name": "FloatProgressModel",
          "model_module_version": "1.5.0",
          "state": {
            "_dom_classes": [],
            "_model_module": "@jupyter-widgets/controls",
            "_model_module_version": "1.5.0",
            "_model_name": "FloatProgressModel",
            "_view_count": null,
            "_view_module": "@jupyter-widgets/controls",
            "_view_module_version": "1.5.0",
            "_view_name": "ProgressView",
            "bar_style": "success",
            "description": "",
            "description_tooltip": null,
            "layout": "IPY_MODEL_b3a1a4fb373240c8a8e4bfc49fc38b4b",
            "max": 11552,
            "min": 0,
            "orientation": "horizontal",
            "style": "IPY_MODEL_82e9188565db43c089e9e820f9c428ad",
            "value": 11552
          }
        },
        "5589359eb3f446098c7c3b8aa2989cc8": {
          "model_module": "@jupyter-widgets/controls",
          "model_name": "HTMLModel",
          "model_module_version": "1.5.0",
          "state": {
            "_dom_classes": [],
            "_model_module": "@jupyter-widgets/controls",
            "_model_module_version": "1.5.0",
            "_model_name": "HTMLModel",
            "_view_count": null,
            "_view_module": "@jupyter-widgets/controls",
            "_view_module_version": "1.5.0",
            "_view_name": "HTMLView",
            "description": "",
            "description_tooltip": null,
            "layout": "IPY_MODEL_f5eeeda2272546198910f6bceeea66e3",
            "placeholder": "​",
            "style": "IPY_MODEL_feba04855b4c48208077b40f58bdf450",
            "value": " 11552/11552 [06:12&lt;00:00, 33.62it/s]"
          }
        },
        "f793aa4512794ff7aa4ad283571720df": {
          "model_module": "@jupyter-widgets/base",
          "model_name": "LayoutModel",
          "model_module_version": "1.2.0",
          "state": {
            "_model_module": "@jupyter-widgets/base",
            "_model_module_version": "1.2.0",
            "_model_name": "LayoutModel",
            "_view_count": null,
            "_view_module": "@jupyter-widgets/base",
            "_view_module_version": "1.2.0",
            "_view_name": "LayoutView",
            "align_content": null,
            "align_items": null,
            "align_self": null,
            "border": null,
            "bottom": null,
            "display": null,
            "flex": null,
            "flex_flow": null,
            "grid_area": null,
            "grid_auto_columns": null,
            "grid_auto_flow": null,
            "grid_auto_rows": null,
            "grid_column": null,
            "grid_gap": null,
            "grid_row": null,
            "grid_template_areas": null,
            "grid_template_columns": null,
            "grid_template_rows": null,
            "height": null,
            "justify_content": null,
            "justify_items": null,
            "left": null,
            "margin": null,
            "max_height": null,
            "max_width": null,
            "min_height": null,
            "min_width": null,
            "object_fit": null,
            "object_position": null,
            "order": null,
            "overflow": null,
            "overflow_x": null,
            "overflow_y": null,
            "padding": null,
            "right": null,
            "top": null,
            "visibility": null,
            "width": null
          }
        },
        "df74bef57b644d3fac291f64e4f709a1": {
          "model_module": "@jupyter-widgets/base",
          "model_name": "LayoutModel",
          "model_module_version": "1.2.0",
          "state": {
            "_model_module": "@jupyter-widgets/base",
            "_model_module_version": "1.2.0",
            "_model_name": "LayoutModel",
            "_view_count": null,
            "_view_module": "@jupyter-widgets/base",
            "_view_module_version": "1.2.0",
            "_view_name": "LayoutView",
            "align_content": null,
            "align_items": null,
            "align_self": null,
            "border": null,
            "bottom": null,
            "display": null,
            "flex": null,
            "flex_flow": null,
            "grid_area": null,
            "grid_auto_columns": null,
            "grid_auto_flow": null,
            "grid_auto_rows": null,
            "grid_column": null,
            "grid_gap": null,
            "grid_row": null,
            "grid_template_areas": null,
            "grid_template_columns": null,
            "grid_template_rows": null,
            "height": null,
            "justify_content": null,
            "justify_items": null,
            "left": null,
            "margin": null,
            "max_height": null,
            "max_width": null,
            "min_height": null,
            "min_width": null,
            "object_fit": null,
            "object_position": null,
            "order": null,
            "overflow": null,
            "overflow_x": null,
            "overflow_y": null,
            "padding": null,
            "right": null,
            "top": null,
            "visibility": null,
            "width": null
          }
        },
        "89a34dcc40a945bf84252bba735dcfe6": {
          "model_module": "@jupyter-widgets/controls",
          "model_name": "DescriptionStyleModel",
          "model_module_version": "1.5.0",
          "state": {
            "_model_module": "@jupyter-widgets/controls",
            "_model_module_version": "1.5.0",
            "_model_name": "DescriptionStyleModel",
            "_view_count": null,
            "_view_module": "@jupyter-widgets/base",
            "_view_module_version": "1.2.0",
            "_view_name": "StyleView",
            "description_width": ""
          }
        },
        "b3a1a4fb373240c8a8e4bfc49fc38b4b": {
          "model_module": "@jupyter-widgets/base",
          "model_name": "LayoutModel",
          "model_module_version": "1.2.0",
          "state": {
            "_model_module": "@jupyter-widgets/base",
            "_model_module_version": "1.2.0",
            "_model_name": "LayoutModel",
            "_view_count": null,
            "_view_module": "@jupyter-widgets/base",
            "_view_module_version": "1.2.0",
            "_view_name": "LayoutView",
            "align_content": null,
            "align_items": null,
            "align_self": null,
            "border": null,
            "bottom": null,
            "display": null,
            "flex": null,
            "flex_flow": null,
            "grid_area": null,
            "grid_auto_columns": null,
            "grid_auto_flow": null,
            "grid_auto_rows": null,
            "grid_column": null,
            "grid_gap": null,
            "grid_row": null,
            "grid_template_areas": null,
            "grid_template_columns": null,
            "grid_template_rows": null,
            "height": null,
            "justify_content": null,
            "justify_items": null,
            "left": null,
            "margin": null,
            "max_height": null,
            "max_width": null,
            "min_height": null,
            "min_width": null,
            "object_fit": null,
            "object_position": null,
            "order": null,
            "overflow": null,
            "overflow_x": null,
            "overflow_y": null,
            "padding": null,
            "right": null,
            "top": null,
            "visibility": null,
            "width": null
          }
        },
        "82e9188565db43c089e9e820f9c428ad": {
          "model_module": "@jupyter-widgets/controls",
          "model_name": "ProgressStyleModel",
          "model_module_version": "1.5.0",
          "state": {
            "_model_module": "@jupyter-widgets/controls",
            "_model_module_version": "1.5.0",
            "_model_name": "ProgressStyleModel",
            "_view_count": null,
            "_view_module": "@jupyter-widgets/base",
            "_view_module_version": "1.2.0",
            "_view_name": "StyleView",
            "bar_color": null,
            "description_width": ""
          }
        },
        "f5eeeda2272546198910f6bceeea66e3": {
          "model_module": "@jupyter-widgets/base",
          "model_name": "LayoutModel",
          "model_module_version": "1.2.0",
          "state": {
            "_model_module": "@jupyter-widgets/base",
            "_model_module_version": "1.2.0",
            "_model_name": "LayoutModel",
            "_view_count": null,
            "_view_module": "@jupyter-widgets/base",
            "_view_module_version": "1.2.0",
            "_view_name": "LayoutView",
            "align_content": null,
            "align_items": null,
            "align_self": null,
            "border": null,
            "bottom": null,
            "display": null,
            "flex": null,
            "flex_flow": null,
            "grid_area": null,
            "grid_auto_columns": null,
            "grid_auto_flow": null,
            "grid_auto_rows": null,
            "grid_column": null,
            "grid_gap": null,
            "grid_row": null,
            "grid_template_areas": null,
            "grid_template_columns": null,
            "grid_template_rows": null,
            "height": null,
            "justify_content": null,
            "justify_items": null,
            "left": null,
            "margin": null,
            "max_height": null,
            "max_width": null,
            "min_height": null,
            "min_width": null,
            "object_fit": null,
            "object_position": null,
            "order": null,
            "overflow": null,
            "overflow_x": null,
            "overflow_y": null,
            "padding": null,
            "right": null,
            "top": null,
            "visibility": null,
            "width": null
          }
        },
        "feba04855b4c48208077b40f58bdf450": {
          "model_module": "@jupyter-widgets/controls",
          "model_name": "DescriptionStyleModel",
          "model_module_version": "1.5.0",
          "state": {
            "_model_module": "@jupyter-widgets/controls",
            "_model_module_version": "1.5.0",
            "_model_name": "DescriptionStyleModel",
            "_view_count": null,
            "_view_module": "@jupyter-widgets/base",
            "_view_module_version": "1.2.0",
            "_view_name": "StyleView",
            "description_width": ""
          }
        },
        "53209590c91e47249e8c3eacce9f684e": {
          "model_module": "@jupyter-widgets/controls",
          "model_name": "HBoxModel",
          "model_module_version": "1.5.0",
          "state": {
            "_dom_classes": [],
            "_model_module": "@jupyter-widgets/controls",
            "_model_module_version": "1.5.0",
            "_model_name": "HBoxModel",
            "_view_count": null,
            "_view_module": "@jupyter-widgets/controls",
            "_view_module_version": "1.5.0",
            "_view_name": "HBoxView",
            "box_style": "",
            "children": [
              "IPY_MODEL_8c4d68afd71c423b9b8f1334c4e09342",
              "IPY_MODEL_f3b56b4466b44ecc98412d721bddf3c3",
              "IPY_MODEL_44e05fdd531949dfa2b03b0abf9c1fbc"
            ],
            "layout": "IPY_MODEL_1cbea0143ee54d17ade2c8a6f7a75392"
          }
        },
        "8c4d68afd71c423b9b8f1334c4e09342": {
          "model_module": "@jupyter-widgets/controls",
          "model_name": "HTMLModel",
          "model_module_version": "1.5.0",
          "state": {
            "_dom_classes": [],
            "_model_module": "@jupyter-widgets/controls",
            "_model_module_version": "1.5.0",
            "_model_name": "HTMLModel",
            "_view_count": null,
            "_view_module": "@jupyter-widgets/controls",
            "_view_module_version": "1.5.0",
            "_view_name": "HTMLView",
            "description": "",
            "description_tooltip": null,
            "layout": "IPY_MODEL_0faea26ce20b4d0393610e2668c0519e",
            "placeholder": "​",
            "style": "IPY_MODEL_b969d9f4d26c4c2cae95a701ed3856d9",
            "value": "100%"
          }
        },
        "f3b56b4466b44ecc98412d721bddf3c3": {
          "model_module": "@jupyter-widgets/controls",
          "model_name": "FloatProgressModel",
          "model_module_version": "1.5.0",
          "state": {
            "_dom_classes": [],
            "_model_module": "@jupyter-widgets/controls",
            "_model_module_version": "1.5.0",
            "_model_name": "FloatProgressModel",
            "_view_count": null,
            "_view_module": "@jupyter-widgets/controls",
            "_view_module_version": "1.5.0",
            "_view_name": "ProgressView",
            "bar_style": "success",
            "description": "",
            "description_tooltip": null,
            "layout": "IPY_MODEL_2c97f210592346fcade9b35b74b22675",
            "max": 1902,
            "min": 0,
            "orientation": "horizontal",
            "style": "IPY_MODEL_b5b8e3156353409a816d6dcd58f13137",
            "value": 1902
          }
        },
        "44e05fdd531949dfa2b03b0abf9c1fbc": {
          "model_module": "@jupyter-widgets/controls",
          "model_name": "HTMLModel",
          "model_module_version": "1.5.0",
          "state": {
            "_dom_classes": [],
            "_model_module": "@jupyter-widgets/controls",
            "_model_module_version": "1.5.0",
            "_model_name": "HTMLModel",
            "_view_count": null,
            "_view_module": "@jupyter-widgets/controls",
            "_view_module_version": "1.5.0",
            "_view_name": "HTMLView",
            "description": "",
            "description_tooltip": null,
            "layout": "IPY_MODEL_3f57940fc37d45aead5906b498d534ec",
            "placeholder": "​",
            "style": "IPY_MODEL_b6754558399a49aab23cebffc7c0a4f2",
            "value": " 1902/1902 [00:59&lt;00:00, 52.41it/s]"
          }
        },
        "1cbea0143ee54d17ade2c8a6f7a75392": {
          "model_module": "@jupyter-widgets/base",
          "model_name": "LayoutModel",
          "model_module_version": "1.2.0",
          "state": {
            "_model_module": "@jupyter-widgets/base",
            "_model_module_version": "1.2.0",
            "_model_name": "LayoutModel",
            "_view_count": null,
            "_view_module": "@jupyter-widgets/base",
            "_view_module_version": "1.2.0",
            "_view_name": "LayoutView",
            "align_content": null,
            "align_items": null,
            "align_self": null,
            "border": null,
            "bottom": null,
            "display": null,
            "flex": null,
            "flex_flow": null,
            "grid_area": null,
            "grid_auto_columns": null,
            "grid_auto_flow": null,
            "grid_auto_rows": null,
            "grid_column": null,
            "grid_gap": null,
            "grid_row": null,
            "grid_template_areas": null,
            "grid_template_columns": null,
            "grid_template_rows": null,
            "height": null,
            "justify_content": null,
            "justify_items": null,
            "left": null,
            "margin": null,
            "max_height": null,
            "max_width": null,
            "min_height": null,
            "min_width": null,
            "object_fit": null,
            "object_position": null,
            "order": null,
            "overflow": null,
            "overflow_x": null,
            "overflow_y": null,
            "padding": null,
            "right": null,
            "top": null,
            "visibility": null,
            "width": null
          }
        },
        "0faea26ce20b4d0393610e2668c0519e": {
          "model_module": "@jupyter-widgets/base",
          "model_name": "LayoutModel",
          "model_module_version": "1.2.0",
          "state": {
            "_model_module": "@jupyter-widgets/base",
            "_model_module_version": "1.2.0",
            "_model_name": "LayoutModel",
            "_view_count": null,
            "_view_module": "@jupyter-widgets/base",
            "_view_module_version": "1.2.0",
            "_view_name": "LayoutView",
            "align_content": null,
            "align_items": null,
            "align_self": null,
            "border": null,
            "bottom": null,
            "display": null,
            "flex": null,
            "flex_flow": null,
            "grid_area": null,
            "grid_auto_columns": null,
            "grid_auto_flow": null,
            "grid_auto_rows": null,
            "grid_column": null,
            "grid_gap": null,
            "grid_row": null,
            "grid_template_areas": null,
            "grid_template_columns": null,
            "grid_template_rows": null,
            "height": null,
            "justify_content": null,
            "justify_items": null,
            "left": null,
            "margin": null,
            "max_height": null,
            "max_width": null,
            "min_height": null,
            "min_width": null,
            "object_fit": null,
            "object_position": null,
            "order": null,
            "overflow": null,
            "overflow_x": null,
            "overflow_y": null,
            "padding": null,
            "right": null,
            "top": null,
            "visibility": null,
            "width": null
          }
        },
        "b969d9f4d26c4c2cae95a701ed3856d9": {
          "model_module": "@jupyter-widgets/controls",
          "model_name": "DescriptionStyleModel",
          "model_module_version": "1.5.0",
          "state": {
            "_model_module": "@jupyter-widgets/controls",
            "_model_module_version": "1.5.0",
            "_model_name": "DescriptionStyleModel",
            "_view_count": null,
            "_view_module": "@jupyter-widgets/base",
            "_view_module_version": "1.2.0",
            "_view_name": "StyleView",
            "description_width": ""
          }
        },
        "2c97f210592346fcade9b35b74b22675": {
          "model_module": "@jupyter-widgets/base",
          "model_name": "LayoutModel",
          "model_module_version": "1.2.0",
          "state": {
            "_model_module": "@jupyter-widgets/base",
            "_model_module_version": "1.2.0",
            "_model_name": "LayoutModel",
            "_view_count": null,
            "_view_module": "@jupyter-widgets/base",
            "_view_module_version": "1.2.0",
            "_view_name": "LayoutView",
            "align_content": null,
            "align_items": null,
            "align_self": null,
            "border": null,
            "bottom": null,
            "display": null,
            "flex": null,
            "flex_flow": null,
            "grid_area": null,
            "grid_auto_columns": null,
            "grid_auto_flow": null,
            "grid_auto_rows": null,
            "grid_column": null,
            "grid_gap": null,
            "grid_row": null,
            "grid_template_areas": null,
            "grid_template_columns": null,
            "grid_template_rows": null,
            "height": null,
            "justify_content": null,
            "justify_items": null,
            "left": null,
            "margin": null,
            "max_height": null,
            "max_width": null,
            "min_height": null,
            "min_width": null,
            "object_fit": null,
            "object_position": null,
            "order": null,
            "overflow": null,
            "overflow_x": null,
            "overflow_y": null,
            "padding": null,
            "right": null,
            "top": null,
            "visibility": null,
            "width": null
          }
        },
        "b5b8e3156353409a816d6dcd58f13137": {
          "model_module": "@jupyter-widgets/controls",
          "model_name": "ProgressStyleModel",
          "model_module_version": "1.5.0",
          "state": {
            "_model_module": "@jupyter-widgets/controls",
            "_model_module_version": "1.5.0",
            "_model_name": "ProgressStyleModel",
            "_view_count": null,
            "_view_module": "@jupyter-widgets/base",
            "_view_module_version": "1.2.0",
            "_view_name": "StyleView",
            "bar_color": null,
            "description_width": ""
          }
        },
        "3f57940fc37d45aead5906b498d534ec": {
          "model_module": "@jupyter-widgets/base",
          "model_name": "LayoutModel",
          "model_module_version": "1.2.0",
          "state": {
            "_model_module": "@jupyter-widgets/base",
            "_model_module_version": "1.2.0",
            "_model_name": "LayoutModel",
            "_view_count": null,
            "_view_module": "@jupyter-widgets/base",
            "_view_module_version": "1.2.0",
            "_view_name": "LayoutView",
            "align_content": null,
            "align_items": null,
            "align_self": null,
            "border": null,
            "bottom": null,
            "display": null,
            "flex": null,
            "flex_flow": null,
            "grid_area": null,
            "grid_auto_columns": null,
            "grid_auto_flow": null,
            "grid_auto_rows": null,
            "grid_column": null,
            "grid_gap": null,
            "grid_row": null,
            "grid_template_areas": null,
            "grid_template_columns": null,
            "grid_template_rows": null,
            "height": null,
            "justify_content": null,
            "justify_items": null,
            "left": null,
            "margin": null,
            "max_height": null,
            "max_width": null,
            "min_height": null,
            "min_width": null,
            "object_fit": null,
            "object_position": null,
            "order": null,
            "overflow": null,
            "overflow_x": null,
            "overflow_y": null,
            "padding": null,
            "right": null,
            "top": null,
            "visibility": null,
            "width": null
          }
        },
        "b6754558399a49aab23cebffc7c0a4f2": {
          "model_module": "@jupyter-widgets/controls",
          "model_name": "DescriptionStyleModel",
          "model_module_version": "1.5.0",
          "state": {
            "_model_module": "@jupyter-widgets/controls",
            "_model_module_version": "1.5.0",
            "_model_name": "DescriptionStyleModel",
            "_view_count": null,
            "_view_module": "@jupyter-widgets/base",
            "_view_module_version": "1.2.0",
            "_view_name": "StyleView",
            "description_width": ""
          }
        },
        "e78cffc1f337468780d707d8006fc36a": {
          "model_module": "@jupyter-widgets/controls",
          "model_name": "HBoxModel",
          "model_module_version": "1.5.0",
          "state": {
            "_dom_classes": [],
            "_model_module": "@jupyter-widgets/controls",
            "_model_module_version": "1.5.0",
            "_model_name": "HBoxModel",
            "_view_count": null,
            "_view_module": "@jupyter-widgets/controls",
            "_view_module_version": "1.5.0",
            "_view_name": "HBoxView",
            "box_style": "",
            "children": [
              "IPY_MODEL_518a048d36864e76864953c6fb143e4c",
              "IPY_MODEL_fe47923d2c314cf3b6a3373a153b466f",
              "IPY_MODEL_04a447781293441d90e976e7269bc5a8"
            ],
            "layout": "IPY_MODEL_6efd923f9deb40888e7bf52ac7dbffea"
          }
        },
        "518a048d36864e76864953c6fb143e4c": {
          "model_module": "@jupyter-widgets/controls",
          "model_name": "HTMLModel",
          "model_module_version": "1.5.0",
          "state": {
            "_dom_classes": [],
            "_model_module": "@jupyter-widgets/controls",
            "_model_module_version": "1.5.0",
            "_model_name": "HTMLModel",
            "_view_count": null,
            "_view_module": "@jupyter-widgets/controls",
            "_view_module_version": "1.5.0",
            "_view_name": "HTMLView",
            "description": "",
            "description_tooltip": null,
            "layout": "IPY_MODEL_4bc891d754194ab7981d50f47828d86f",
            "placeholder": "​",
            "style": "IPY_MODEL_bfa526694f664f0ca744f043320344ba",
            "value": "100%"
          }
        },
        "fe47923d2c314cf3b6a3373a153b466f": {
          "model_module": "@jupyter-widgets/controls",
          "model_name": "FloatProgressModel",
          "model_module_version": "1.5.0",
          "state": {
            "_dom_classes": [],
            "_model_module": "@jupyter-widgets/controls",
            "_model_module_version": "1.5.0",
            "_model_name": "FloatProgressModel",
            "_view_count": null,
            "_view_module": "@jupyter-widgets/controls",
            "_view_module_version": "1.5.0",
            "_view_name": "ProgressView",
            "bar_style": "success",
            "description": "",
            "description_tooltip": null,
            "layout": "IPY_MODEL_f17ff35e4a714083b1f3ece838875c3a",
            "max": 1902,
            "min": 0,
            "orientation": "horizontal",
            "style": "IPY_MODEL_129faf423e254f489e810565c4a85351",
            "value": 1902
          }
        },
        "04a447781293441d90e976e7269bc5a8": {
          "model_module": "@jupyter-widgets/controls",
          "model_name": "HTMLModel",
          "model_module_version": "1.5.0",
          "state": {
            "_dom_classes": [],
            "_model_module": "@jupyter-widgets/controls",
            "_model_module_version": "1.5.0",
            "_model_name": "HTMLModel",
            "_view_count": null,
            "_view_module": "@jupyter-widgets/controls",
            "_view_module_version": "1.5.0",
            "_view_name": "HTMLView",
            "description": "",
            "description_tooltip": null,
            "layout": "IPY_MODEL_a66569c6d53543d6bfc551bfca2cc3c8",
            "placeholder": "​",
            "style": "IPY_MODEL_3733b499ecec4acca38e8137fdd71ae6",
            "value": " 1902/1902 [00:42&lt;00:00, 49.90it/s]"
          }
        },
        "6efd923f9deb40888e7bf52ac7dbffea": {
          "model_module": "@jupyter-widgets/base",
          "model_name": "LayoutModel",
          "model_module_version": "1.2.0",
          "state": {
            "_model_module": "@jupyter-widgets/base",
            "_model_module_version": "1.2.0",
            "_model_name": "LayoutModel",
            "_view_count": null,
            "_view_module": "@jupyter-widgets/base",
            "_view_module_version": "1.2.0",
            "_view_name": "LayoutView",
            "align_content": null,
            "align_items": null,
            "align_self": null,
            "border": null,
            "bottom": null,
            "display": null,
            "flex": null,
            "flex_flow": null,
            "grid_area": null,
            "grid_auto_columns": null,
            "grid_auto_flow": null,
            "grid_auto_rows": null,
            "grid_column": null,
            "grid_gap": null,
            "grid_row": null,
            "grid_template_areas": null,
            "grid_template_columns": null,
            "grid_template_rows": null,
            "height": null,
            "justify_content": null,
            "justify_items": null,
            "left": null,
            "margin": null,
            "max_height": null,
            "max_width": null,
            "min_height": null,
            "min_width": null,
            "object_fit": null,
            "object_position": null,
            "order": null,
            "overflow": null,
            "overflow_x": null,
            "overflow_y": null,
            "padding": null,
            "right": null,
            "top": null,
            "visibility": null,
            "width": null
          }
        },
        "4bc891d754194ab7981d50f47828d86f": {
          "model_module": "@jupyter-widgets/base",
          "model_name": "LayoutModel",
          "model_module_version": "1.2.0",
          "state": {
            "_model_module": "@jupyter-widgets/base",
            "_model_module_version": "1.2.0",
            "_model_name": "LayoutModel",
            "_view_count": null,
            "_view_module": "@jupyter-widgets/base",
            "_view_module_version": "1.2.0",
            "_view_name": "LayoutView",
            "align_content": null,
            "align_items": null,
            "align_self": null,
            "border": null,
            "bottom": null,
            "display": null,
            "flex": null,
            "flex_flow": null,
            "grid_area": null,
            "grid_auto_columns": null,
            "grid_auto_flow": null,
            "grid_auto_rows": null,
            "grid_column": null,
            "grid_gap": null,
            "grid_row": null,
            "grid_template_areas": null,
            "grid_template_columns": null,
            "grid_template_rows": null,
            "height": null,
            "justify_content": null,
            "justify_items": null,
            "left": null,
            "margin": null,
            "max_height": null,
            "max_width": null,
            "min_height": null,
            "min_width": null,
            "object_fit": null,
            "object_position": null,
            "order": null,
            "overflow": null,
            "overflow_x": null,
            "overflow_y": null,
            "padding": null,
            "right": null,
            "top": null,
            "visibility": null,
            "width": null
          }
        },
        "bfa526694f664f0ca744f043320344ba": {
          "model_module": "@jupyter-widgets/controls",
          "model_name": "DescriptionStyleModel",
          "model_module_version": "1.5.0",
          "state": {
            "_model_module": "@jupyter-widgets/controls",
            "_model_module_version": "1.5.0",
            "_model_name": "DescriptionStyleModel",
            "_view_count": null,
            "_view_module": "@jupyter-widgets/base",
            "_view_module_version": "1.2.0",
            "_view_name": "StyleView",
            "description_width": ""
          }
        },
        "f17ff35e4a714083b1f3ece838875c3a": {
          "model_module": "@jupyter-widgets/base",
          "model_name": "LayoutModel",
          "model_module_version": "1.2.0",
          "state": {
            "_model_module": "@jupyter-widgets/base",
            "_model_module_version": "1.2.0",
            "_model_name": "LayoutModel",
            "_view_count": null,
            "_view_module": "@jupyter-widgets/base",
            "_view_module_version": "1.2.0",
            "_view_name": "LayoutView",
            "align_content": null,
            "align_items": null,
            "align_self": null,
            "border": null,
            "bottom": null,
            "display": null,
            "flex": null,
            "flex_flow": null,
            "grid_area": null,
            "grid_auto_columns": null,
            "grid_auto_flow": null,
            "grid_auto_rows": null,
            "grid_column": null,
            "grid_gap": null,
            "grid_row": null,
            "grid_template_areas": null,
            "grid_template_columns": null,
            "grid_template_rows": null,
            "height": null,
            "justify_content": null,
            "justify_items": null,
            "left": null,
            "margin": null,
            "max_height": null,
            "max_width": null,
            "min_height": null,
            "min_width": null,
            "object_fit": null,
            "object_position": null,
            "order": null,
            "overflow": null,
            "overflow_x": null,
            "overflow_y": null,
            "padding": null,
            "right": null,
            "top": null,
            "visibility": null,
            "width": null
          }
        },
        "129faf423e254f489e810565c4a85351": {
          "model_module": "@jupyter-widgets/controls",
          "model_name": "ProgressStyleModel",
          "model_module_version": "1.5.0",
          "state": {
            "_model_module": "@jupyter-widgets/controls",
            "_model_module_version": "1.5.0",
            "_model_name": "ProgressStyleModel",
            "_view_count": null,
            "_view_module": "@jupyter-widgets/base",
            "_view_module_version": "1.2.0",
            "_view_name": "StyleView",
            "bar_color": null,
            "description_width": ""
          }
        },
        "a66569c6d53543d6bfc551bfca2cc3c8": {
          "model_module": "@jupyter-widgets/base",
          "model_name": "LayoutModel",
          "model_module_version": "1.2.0",
          "state": {
            "_model_module": "@jupyter-widgets/base",
            "_model_module_version": "1.2.0",
            "_model_name": "LayoutModel",
            "_view_count": null,
            "_view_module": "@jupyter-widgets/base",
            "_view_module_version": "1.2.0",
            "_view_name": "LayoutView",
            "align_content": null,
            "align_items": null,
            "align_self": null,
            "border": null,
            "bottom": null,
            "display": null,
            "flex": null,
            "flex_flow": null,
            "grid_area": null,
            "grid_auto_columns": null,
            "grid_auto_flow": null,
            "grid_auto_rows": null,
            "grid_column": null,
            "grid_gap": null,
            "grid_row": null,
            "grid_template_areas": null,
            "grid_template_columns": null,
            "grid_template_rows": null,
            "height": null,
            "justify_content": null,
            "justify_items": null,
            "left": null,
            "margin": null,
            "max_height": null,
            "max_width": null,
            "min_height": null,
            "min_width": null,
            "object_fit": null,
            "object_position": null,
            "order": null,
            "overflow": null,
            "overflow_x": null,
            "overflow_y": null,
            "padding": null,
            "right": null,
            "top": null,
            "visibility": null,
            "width": null
          }
        },
        "3733b499ecec4acca38e8137fdd71ae6": {
          "model_module": "@jupyter-widgets/controls",
          "model_name": "DescriptionStyleModel",
          "model_module_version": "1.5.0",
          "state": {
            "_model_module": "@jupyter-widgets/controls",
            "_model_module_version": "1.5.0",
            "_model_name": "DescriptionStyleModel",
            "_view_count": null,
            "_view_module": "@jupyter-widgets/base",
            "_view_module_version": "1.2.0",
            "_view_name": "StyleView",
            "description_width": ""
          }
        },
        "5f5619871246443ebc6ef78e4231c836": {
          "model_module": "@jupyter-widgets/controls",
          "model_name": "HBoxModel",
          "model_module_version": "1.5.0",
          "state": {
            "_dom_classes": [],
            "_model_module": "@jupyter-widgets/controls",
            "_model_module_version": "1.5.0",
            "_model_name": "HBoxModel",
            "_view_count": null,
            "_view_module": "@jupyter-widgets/controls",
            "_view_module_version": "1.5.0",
            "_view_name": "HBoxView",
            "box_style": "",
            "children": [
              "IPY_MODEL_c87bf51d385c446e86c1e02a3728391e",
              "IPY_MODEL_4c85facae76c4757afcf53a053761780",
              "IPY_MODEL_ad411d4c1e9e4bf0804ac65cab31b2bf"
            ],
            "layout": "IPY_MODEL_4b9baab9a7f64088a543de4194c8843e"
          }
        },
        "c87bf51d385c446e86c1e02a3728391e": {
          "model_module": "@jupyter-widgets/controls",
          "model_name": "HTMLModel",
          "model_module_version": "1.5.0",
          "state": {
            "_dom_classes": [],
            "_model_module": "@jupyter-widgets/controls",
            "_model_module_version": "1.5.0",
            "_model_name": "HTMLModel",
            "_view_count": null,
            "_view_module": "@jupyter-widgets/controls",
            "_view_module_version": "1.5.0",
            "_view_name": "HTMLView",
            "description": "",
            "description_tooltip": null,
            "layout": "IPY_MODEL_54c7b0face9b4e4ca8df2bcdd0139edb",
            "placeholder": "​",
            "style": "IPY_MODEL_869488516a3b4609b8a1ba1ac6d321a2",
            "value": "100%"
          }
        },
        "4c85facae76c4757afcf53a053761780": {
          "model_module": "@jupyter-widgets/controls",
          "model_name": "FloatProgressModel",
          "model_module_version": "1.5.0",
          "state": {
            "_dom_classes": [],
            "_model_module": "@jupyter-widgets/controls",
            "_model_module_version": "1.5.0",
            "_model_name": "FloatProgressModel",
            "_view_count": null,
            "_view_module": "@jupyter-widgets/controls",
            "_view_module_version": "1.5.0",
            "_view_name": "ProgressView",
            "bar_style": "success",
            "description": "",
            "description_tooltip": null,
            "layout": "IPY_MODEL_ecc5088d80e5425c91c1dfc272875516",
            "max": 11552,
            "min": 0,
            "orientation": "horizontal",
            "style": "IPY_MODEL_780fc85098f0420a81c9b670afab8b7a",
            "value": 11552
          }
        },
        "ad411d4c1e9e4bf0804ac65cab31b2bf": {
          "model_module": "@jupyter-widgets/controls",
          "model_name": "HTMLModel",
          "model_module_version": "1.5.0",
          "state": {
            "_dom_classes": [],
            "_model_module": "@jupyter-widgets/controls",
            "_model_module_version": "1.5.0",
            "_model_name": "HTMLModel",
            "_view_count": null,
            "_view_module": "@jupyter-widgets/controls",
            "_view_module_version": "1.5.0",
            "_view_name": "HTMLView",
            "description": "",
            "description_tooltip": null,
            "layout": "IPY_MODEL_4ea8d934283943e295450461b2a7814f",
            "placeholder": "​",
            "style": "IPY_MODEL_784ff703fb4f4da19a7ef730f74069e1",
            "value": " 11552/11552 [00:17&lt;00:00, 706.49it/s]"
          }
        },
        "4b9baab9a7f64088a543de4194c8843e": {
          "model_module": "@jupyter-widgets/base",
          "model_name": "LayoutModel",
          "model_module_version": "1.2.0",
          "state": {
            "_model_module": "@jupyter-widgets/base",
            "_model_module_version": "1.2.0",
            "_model_name": "LayoutModel",
            "_view_count": null,
            "_view_module": "@jupyter-widgets/base",
            "_view_module_version": "1.2.0",
            "_view_name": "LayoutView",
            "align_content": null,
            "align_items": null,
            "align_self": null,
            "border": null,
            "bottom": null,
            "display": null,
            "flex": null,
            "flex_flow": null,
            "grid_area": null,
            "grid_auto_columns": null,
            "grid_auto_flow": null,
            "grid_auto_rows": null,
            "grid_column": null,
            "grid_gap": null,
            "grid_row": null,
            "grid_template_areas": null,
            "grid_template_columns": null,
            "grid_template_rows": null,
            "height": null,
            "justify_content": null,
            "justify_items": null,
            "left": null,
            "margin": null,
            "max_height": null,
            "max_width": null,
            "min_height": null,
            "min_width": null,
            "object_fit": null,
            "object_position": null,
            "order": null,
            "overflow": null,
            "overflow_x": null,
            "overflow_y": null,
            "padding": null,
            "right": null,
            "top": null,
            "visibility": null,
            "width": null
          }
        },
        "54c7b0face9b4e4ca8df2bcdd0139edb": {
          "model_module": "@jupyter-widgets/base",
          "model_name": "LayoutModel",
          "model_module_version": "1.2.0",
          "state": {
            "_model_module": "@jupyter-widgets/base",
            "_model_module_version": "1.2.0",
            "_model_name": "LayoutModel",
            "_view_count": null,
            "_view_module": "@jupyter-widgets/base",
            "_view_module_version": "1.2.0",
            "_view_name": "LayoutView",
            "align_content": null,
            "align_items": null,
            "align_self": null,
            "border": null,
            "bottom": null,
            "display": null,
            "flex": null,
            "flex_flow": null,
            "grid_area": null,
            "grid_auto_columns": null,
            "grid_auto_flow": null,
            "grid_auto_rows": null,
            "grid_column": null,
            "grid_gap": null,
            "grid_row": null,
            "grid_template_areas": null,
            "grid_template_columns": null,
            "grid_template_rows": null,
            "height": null,
            "justify_content": null,
            "justify_items": null,
            "left": null,
            "margin": null,
            "max_height": null,
            "max_width": null,
            "min_height": null,
            "min_width": null,
            "object_fit": null,
            "object_position": null,
            "order": null,
            "overflow": null,
            "overflow_x": null,
            "overflow_y": null,
            "padding": null,
            "right": null,
            "top": null,
            "visibility": null,
            "width": null
          }
        },
        "869488516a3b4609b8a1ba1ac6d321a2": {
          "model_module": "@jupyter-widgets/controls",
          "model_name": "DescriptionStyleModel",
          "model_module_version": "1.5.0",
          "state": {
            "_model_module": "@jupyter-widgets/controls",
            "_model_module_version": "1.5.0",
            "_model_name": "DescriptionStyleModel",
            "_view_count": null,
            "_view_module": "@jupyter-widgets/base",
            "_view_module_version": "1.2.0",
            "_view_name": "StyleView",
            "description_width": ""
          }
        },
        "ecc5088d80e5425c91c1dfc272875516": {
          "model_module": "@jupyter-widgets/base",
          "model_name": "LayoutModel",
          "model_module_version": "1.2.0",
          "state": {
            "_model_module": "@jupyter-widgets/base",
            "_model_module_version": "1.2.0",
            "_model_name": "LayoutModel",
            "_view_count": null,
            "_view_module": "@jupyter-widgets/base",
            "_view_module_version": "1.2.0",
            "_view_name": "LayoutView",
            "align_content": null,
            "align_items": null,
            "align_self": null,
            "border": null,
            "bottom": null,
            "display": null,
            "flex": null,
            "flex_flow": null,
            "grid_area": null,
            "grid_auto_columns": null,
            "grid_auto_flow": null,
            "grid_auto_rows": null,
            "grid_column": null,
            "grid_gap": null,
            "grid_row": null,
            "grid_template_areas": null,
            "grid_template_columns": null,
            "grid_template_rows": null,
            "height": null,
            "justify_content": null,
            "justify_items": null,
            "left": null,
            "margin": null,
            "max_height": null,
            "max_width": null,
            "min_height": null,
            "min_width": null,
            "object_fit": null,
            "object_position": null,
            "order": null,
            "overflow": null,
            "overflow_x": null,
            "overflow_y": null,
            "padding": null,
            "right": null,
            "top": null,
            "visibility": null,
            "width": null
          }
        },
        "780fc85098f0420a81c9b670afab8b7a": {
          "model_module": "@jupyter-widgets/controls",
          "model_name": "ProgressStyleModel",
          "model_module_version": "1.5.0",
          "state": {
            "_model_module": "@jupyter-widgets/controls",
            "_model_module_version": "1.5.0",
            "_model_name": "ProgressStyleModel",
            "_view_count": null,
            "_view_module": "@jupyter-widgets/base",
            "_view_module_version": "1.2.0",
            "_view_name": "StyleView",
            "bar_color": null,
            "description_width": ""
          }
        },
        "4ea8d934283943e295450461b2a7814f": {
          "model_module": "@jupyter-widgets/base",
          "model_name": "LayoutModel",
          "model_module_version": "1.2.0",
          "state": {
            "_model_module": "@jupyter-widgets/base",
            "_model_module_version": "1.2.0",
            "_model_name": "LayoutModel",
            "_view_count": null,
            "_view_module": "@jupyter-widgets/base",
            "_view_module_version": "1.2.0",
            "_view_name": "LayoutView",
            "align_content": null,
            "align_items": null,
            "align_self": null,
            "border": null,
            "bottom": null,
            "display": null,
            "flex": null,
            "flex_flow": null,
            "grid_area": null,
            "grid_auto_columns": null,
            "grid_auto_flow": null,
            "grid_auto_rows": null,
            "grid_column": null,
            "grid_gap": null,
            "grid_row": null,
            "grid_template_areas": null,
            "grid_template_columns": null,
            "grid_template_rows": null,
            "height": null,
            "justify_content": null,
            "justify_items": null,
            "left": null,
            "margin": null,
            "max_height": null,
            "max_width": null,
            "min_height": null,
            "min_width": null,
            "object_fit": null,
            "object_position": null,
            "order": null,
            "overflow": null,
            "overflow_x": null,
            "overflow_y": null,
            "padding": null,
            "right": null,
            "top": null,
            "visibility": null,
            "width": null
          }
        },
        "784ff703fb4f4da19a7ef730f74069e1": {
          "model_module": "@jupyter-widgets/controls",
          "model_name": "DescriptionStyleModel",
          "model_module_version": "1.5.0",
          "state": {
            "_model_module": "@jupyter-widgets/controls",
            "_model_module_version": "1.5.0",
            "_model_name": "DescriptionStyleModel",
            "_view_count": null,
            "_view_module": "@jupyter-widgets/base",
            "_view_module_version": "1.2.0",
            "_view_name": "StyleView",
            "description_width": ""
          }
        },
        "1680efa7c744414394e88732c2b1b9ef": {
          "model_module": "@jupyter-widgets/controls",
          "model_name": "HBoxModel",
          "model_module_version": "1.5.0",
          "state": {
            "_dom_classes": [],
            "_model_module": "@jupyter-widgets/controls",
            "_model_module_version": "1.5.0",
            "_model_name": "HBoxModel",
            "_view_count": null,
            "_view_module": "@jupyter-widgets/controls",
            "_view_module_version": "1.5.0",
            "_view_name": "HBoxView",
            "box_style": "",
            "children": [
              "IPY_MODEL_ce0a7774973246f59955bb07626013fa",
              "IPY_MODEL_80365b6b46064e60b6a27bc5973ccc5c",
              "IPY_MODEL_ea77cb20e3184d6abe3af58dad246a24"
            ],
            "layout": "IPY_MODEL_24b4c271d779451db10c56c3e63ac799"
          }
        },
        "ce0a7774973246f59955bb07626013fa": {
          "model_module": "@jupyter-widgets/controls",
          "model_name": "HTMLModel",
          "model_module_version": "1.5.0",
          "state": {
            "_dom_classes": [],
            "_model_module": "@jupyter-widgets/controls",
            "_model_module_version": "1.5.0",
            "_model_name": "HTMLModel",
            "_view_count": null,
            "_view_module": "@jupyter-widgets/controls",
            "_view_module_version": "1.5.0",
            "_view_name": "HTMLView",
            "description": "",
            "description_tooltip": null,
            "layout": "IPY_MODEL_c3bc39f4ec7c4ef393eaf06f3f0cea8c",
            "placeholder": "​",
            "style": "IPY_MODEL_fef3dc9477804d75a5a0c71334a4b855",
            "value": "100%"
          }
        },
        "80365b6b46064e60b6a27bc5973ccc5c": {
          "model_module": "@jupyter-widgets/controls",
          "model_name": "FloatProgressModel",
          "model_module_version": "1.5.0",
          "state": {
            "_dom_classes": [],
            "_model_module": "@jupyter-widgets/controls",
            "_model_module_version": "1.5.0",
            "_model_name": "FloatProgressModel",
            "_view_count": null,
            "_view_module": "@jupyter-widgets/controls",
            "_view_module_version": "1.5.0",
            "_view_name": "ProgressView",
            "bar_style": "success",
            "description": "",
            "description_tooltip": null,
            "layout": "IPY_MODEL_ee8002ba648f4e2d97f726e8d4205a95",
            "max": 1902,
            "min": 0,
            "orientation": "horizontal",
            "style": "IPY_MODEL_6e8c41fad9174b55a5308405c13a02b2",
            "value": 1902
          }
        },
        "ea77cb20e3184d6abe3af58dad246a24": {
          "model_module": "@jupyter-widgets/controls",
          "model_name": "HTMLModel",
          "model_module_version": "1.5.0",
          "state": {
            "_dom_classes": [],
            "_model_module": "@jupyter-widgets/controls",
            "_model_module_version": "1.5.0",
            "_model_name": "HTMLModel",
            "_view_count": null,
            "_view_module": "@jupyter-widgets/controls",
            "_view_module_version": "1.5.0",
            "_view_name": "HTMLView",
            "description": "",
            "description_tooltip": null,
            "layout": "IPY_MODEL_b1ca371d2f544616b63ac7eff6fa300b",
            "placeholder": "​",
            "style": "IPY_MODEL_6cd4383e863d44b19e5c77a0690da694",
            "value": " 1902/1902 [00:02&lt;00:00, 743.87it/s]"
          }
        },
        "24b4c271d779451db10c56c3e63ac799": {
          "model_module": "@jupyter-widgets/base",
          "model_name": "LayoutModel",
          "model_module_version": "1.2.0",
          "state": {
            "_model_module": "@jupyter-widgets/base",
            "_model_module_version": "1.2.0",
            "_model_name": "LayoutModel",
            "_view_count": null,
            "_view_module": "@jupyter-widgets/base",
            "_view_module_version": "1.2.0",
            "_view_name": "LayoutView",
            "align_content": null,
            "align_items": null,
            "align_self": null,
            "border": null,
            "bottom": null,
            "display": null,
            "flex": null,
            "flex_flow": null,
            "grid_area": null,
            "grid_auto_columns": null,
            "grid_auto_flow": null,
            "grid_auto_rows": null,
            "grid_column": null,
            "grid_gap": null,
            "grid_row": null,
            "grid_template_areas": null,
            "grid_template_columns": null,
            "grid_template_rows": null,
            "height": null,
            "justify_content": null,
            "justify_items": null,
            "left": null,
            "margin": null,
            "max_height": null,
            "max_width": null,
            "min_height": null,
            "min_width": null,
            "object_fit": null,
            "object_position": null,
            "order": null,
            "overflow": null,
            "overflow_x": null,
            "overflow_y": null,
            "padding": null,
            "right": null,
            "top": null,
            "visibility": null,
            "width": null
          }
        },
        "c3bc39f4ec7c4ef393eaf06f3f0cea8c": {
          "model_module": "@jupyter-widgets/base",
          "model_name": "LayoutModel",
          "model_module_version": "1.2.0",
          "state": {
            "_model_module": "@jupyter-widgets/base",
            "_model_module_version": "1.2.0",
            "_model_name": "LayoutModel",
            "_view_count": null,
            "_view_module": "@jupyter-widgets/base",
            "_view_module_version": "1.2.0",
            "_view_name": "LayoutView",
            "align_content": null,
            "align_items": null,
            "align_self": null,
            "border": null,
            "bottom": null,
            "display": null,
            "flex": null,
            "flex_flow": null,
            "grid_area": null,
            "grid_auto_columns": null,
            "grid_auto_flow": null,
            "grid_auto_rows": null,
            "grid_column": null,
            "grid_gap": null,
            "grid_row": null,
            "grid_template_areas": null,
            "grid_template_columns": null,
            "grid_template_rows": null,
            "height": null,
            "justify_content": null,
            "justify_items": null,
            "left": null,
            "margin": null,
            "max_height": null,
            "max_width": null,
            "min_height": null,
            "min_width": null,
            "object_fit": null,
            "object_position": null,
            "order": null,
            "overflow": null,
            "overflow_x": null,
            "overflow_y": null,
            "padding": null,
            "right": null,
            "top": null,
            "visibility": null,
            "width": null
          }
        },
        "fef3dc9477804d75a5a0c71334a4b855": {
          "model_module": "@jupyter-widgets/controls",
          "model_name": "DescriptionStyleModel",
          "model_module_version": "1.5.0",
          "state": {
            "_model_module": "@jupyter-widgets/controls",
            "_model_module_version": "1.5.0",
            "_model_name": "DescriptionStyleModel",
            "_view_count": null,
            "_view_module": "@jupyter-widgets/base",
            "_view_module_version": "1.2.0",
            "_view_name": "StyleView",
            "description_width": ""
          }
        },
        "ee8002ba648f4e2d97f726e8d4205a95": {
          "model_module": "@jupyter-widgets/base",
          "model_name": "LayoutModel",
          "model_module_version": "1.2.0",
          "state": {
            "_model_module": "@jupyter-widgets/base",
            "_model_module_version": "1.2.0",
            "_model_name": "LayoutModel",
            "_view_count": null,
            "_view_module": "@jupyter-widgets/base",
            "_view_module_version": "1.2.0",
            "_view_name": "LayoutView",
            "align_content": null,
            "align_items": null,
            "align_self": null,
            "border": null,
            "bottom": null,
            "display": null,
            "flex": null,
            "flex_flow": null,
            "grid_area": null,
            "grid_auto_columns": null,
            "grid_auto_flow": null,
            "grid_auto_rows": null,
            "grid_column": null,
            "grid_gap": null,
            "grid_row": null,
            "grid_template_areas": null,
            "grid_template_columns": null,
            "grid_template_rows": null,
            "height": null,
            "justify_content": null,
            "justify_items": null,
            "left": null,
            "margin": null,
            "max_height": null,
            "max_width": null,
            "min_height": null,
            "min_width": null,
            "object_fit": null,
            "object_position": null,
            "order": null,
            "overflow": null,
            "overflow_x": null,
            "overflow_y": null,
            "padding": null,
            "right": null,
            "top": null,
            "visibility": null,
            "width": null
          }
        },
        "6e8c41fad9174b55a5308405c13a02b2": {
          "model_module": "@jupyter-widgets/controls",
          "model_name": "ProgressStyleModel",
          "model_module_version": "1.5.0",
          "state": {
            "_model_module": "@jupyter-widgets/controls",
            "_model_module_version": "1.5.0",
            "_model_name": "ProgressStyleModel",
            "_view_count": null,
            "_view_module": "@jupyter-widgets/base",
            "_view_module_version": "1.2.0",
            "_view_name": "StyleView",
            "bar_color": null,
            "description_width": ""
          }
        },
        "b1ca371d2f544616b63ac7eff6fa300b": {
          "model_module": "@jupyter-widgets/base",
          "model_name": "LayoutModel",
          "model_module_version": "1.2.0",
          "state": {
            "_model_module": "@jupyter-widgets/base",
            "_model_module_version": "1.2.0",
            "_model_name": "LayoutModel",
            "_view_count": null,
            "_view_module": "@jupyter-widgets/base",
            "_view_module_version": "1.2.0",
            "_view_name": "LayoutView",
            "align_content": null,
            "align_items": null,
            "align_self": null,
            "border": null,
            "bottom": null,
            "display": null,
            "flex": null,
            "flex_flow": null,
            "grid_area": null,
            "grid_auto_columns": null,
            "grid_auto_flow": null,
            "grid_auto_rows": null,
            "grid_column": null,
            "grid_gap": null,
            "grid_row": null,
            "grid_template_areas": null,
            "grid_template_columns": null,
            "grid_template_rows": null,
            "height": null,
            "justify_content": null,
            "justify_items": null,
            "left": null,
            "margin": null,
            "max_height": null,
            "max_width": null,
            "min_height": null,
            "min_width": null,
            "object_fit": null,
            "object_position": null,
            "order": null,
            "overflow": null,
            "overflow_x": null,
            "overflow_y": null,
            "padding": null,
            "right": null,
            "top": null,
            "visibility": null,
            "width": null
          }
        },
        "6cd4383e863d44b19e5c77a0690da694": {
          "model_module": "@jupyter-widgets/controls",
          "model_name": "DescriptionStyleModel",
          "model_module_version": "1.5.0",
          "state": {
            "_model_module": "@jupyter-widgets/controls",
            "_model_module_version": "1.5.0",
            "_model_name": "DescriptionStyleModel",
            "_view_count": null,
            "_view_module": "@jupyter-widgets/base",
            "_view_module_version": "1.2.0",
            "_view_name": "StyleView",
            "description_width": ""
          }
        },
        "531d8dad504249189477bc9bdf20529b": {
          "model_module": "@jupyter-widgets/controls",
          "model_name": "HBoxModel",
          "model_module_version": "1.5.0",
          "state": {
            "_dom_classes": [],
            "_model_module": "@jupyter-widgets/controls",
            "_model_module_version": "1.5.0",
            "_model_name": "HBoxModel",
            "_view_count": null,
            "_view_module": "@jupyter-widgets/controls",
            "_view_module_version": "1.5.0",
            "_view_name": "HBoxView",
            "box_style": "",
            "children": [
              "IPY_MODEL_a9e966c072dd4c13bd52dfd5ec5a9be3",
              "IPY_MODEL_20b4dfc6bfd24e2680478fe8a8fe3021",
              "IPY_MODEL_525618c804d04aaa8b18f588864e248b"
            ],
            "layout": "IPY_MODEL_37d5d47da70948aeb2bcbbca9ed7ed9a"
          }
        },
        "a9e966c072dd4c13bd52dfd5ec5a9be3": {
          "model_module": "@jupyter-widgets/controls",
          "model_name": "HTMLModel",
          "model_module_version": "1.5.0",
          "state": {
            "_dom_classes": [],
            "_model_module": "@jupyter-widgets/controls",
            "_model_module_version": "1.5.0",
            "_model_name": "HTMLModel",
            "_view_count": null,
            "_view_module": "@jupyter-widgets/controls",
            "_view_module_version": "1.5.0",
            "_view_name": "HTMLView",
            "description": "",
            "description_tooltip": null,
            "layout": "IPY_MODEL_52e29a406f6147abbe9d3062256ff209",
            "placeholder": "​",
            "style": "IPY_MODEL_1421fcef8a4f4cf4b47af8701eca4192",
            "value": "100%"
          }
        },
        "20b4dfc6bfd24e2680478fe8a8fe3021": {
          "model_module": "@jupyter-widgets/controls",
          "model_name": "FloatProgressModel",
          "model_module_version": "1.5.0",
          "state": {
            "_dom_classes": [],
            "_model_module": "@jupyter-widgets/controls",
            "_model_module_version": "1.5.0",
            "_model_name": "FloatProgressModel",
            "_view_count": null,
            "_view_module": "@jupyter-widgets/controls",
            "_view_module_version": "1.5.0",
            "_view_name": "ProgressView",
            "bar_style": "success",
            "description": "",
            "description_tooltip": null,
            "layout": "IPY_MODEL_9179ae23fe984e01ab6b0513d598902e",
            "max": 1902,
            "min": 0,
            "orientation": "horizontal",
            "style": "IPY_MODEL_1f20971790cf4b26aa07af56e7982617",
            "value": 1902
          }
        },
        "525618c804d04aaa8b18f588864e248b": {
          "model_module": "@jupyter-widgets/controls",
          "model_name": "HTMLModel",
          "model_module_version": "1.5.0",
          "state": {
            "_dom_classes": [],
            "_model_module": "@jupyter-widgets/controls",
            "_model_module_version": "1.5.0",
            "_model_name": "HTMLModel",
            "_view_count": null,
            "_view_module": "@jupyter-widgets/controls",
            "_view_module_version": "1.5.0",
            "_view_name": "HTMLView",
            "description": "",
            "description_tooltip": null,
            "layout": "IPY_MODEL_96097549f2df408c9973f12a387f801d",
            "placeholder": "​",
            "style": "IPY_MODEL_bdc7221f414148b2a3269b2df2815767",
            "value": " 1902/1902 [00:02&lt;00:00, 766.97it/s]"
          }
        },
        "37d5d47da70948aeb2bcbbca9ed7ed9a": {
          "model_module": "@jupyter-widgets/base",
          "model_name": "LayoutModel",
          "model_module_version": "1.2.0",
          "state": {
            "_model_module": "@jupyter-widgets/base",
            "_model_module_version": "1.2.0",
            "_model_name": "LayoutModel",
            "_view_count": null,
            "_view_module": "@jupyter-widgets/base",
            "_view_module_version": "1.2.0",
            "_view_name": "LayoutView",
            "align_content": null,
            "align_items": null,
            "align_self": null,
            "border": null,
            "bottom": null,
            "display": null,
            "flex": null,
            "flex_flow": null,
            "grid_area": null,
            "grid_auto_columns": null,
            "grid_auto_flow": null,
            "grid_auto_rows": null,
            "grid_column": null,
            "grid_gap": null,
            "grid_row": null,
            "grid_template_areas": null,
            "grid_template_columns": null,
            "grid_template_rows": null,
            "height": null,
            "justify_content": null,
            "justify_items": null,
            "left": null,
            "margin": null,
            "max_height": null,
            "max_width": null,
            "min_height": null,
            "min_width": null,
            "object_fit": null,
            "object_position": null,
            "order": null,
            "overflow": null,
            "overflow_x": null,
            "overflow_y": null,
            "padding": null,
            "right": null,
            "top": null,
            "visibility": null,
            "width": null
          }
        },
        "52e29a406f6147abbe9d3062256ff209": {
          "model_module": "@jupyter-widgets/base",
          "model_name": "LayoutModel",
          "model_module_version": "1.2.0",
          "state": {
            "_model_module": "@jupyter-widgets/base",
            "_model_module_version": "1.2.0",
            "_model_name": "LayoutModel",
            "_view_count": null,
            "_view_module": "@jupyter-widgets/base",
            "_view_module_version": "1.2.0",
            "_view_name": "LayoutView",
            "align_content": null,
            "align_items": null,
            "align_self": null,
            "border": null,
            "bottom": null,
            "display": null,
            "flex": null,
            "flex_flow": null,
            "grid_area": null,
            "grid_auto_columns": null,
            "grid_auto_flow": null,
            "grid_auto_rows": null,
            "grid_column": null,
            "grid_gap": null,
            "grid_row": null,
            "grid_template_areas": null,
            "grid_template_columns": null,
            "grid_template_rows": null,
            "height": null,
            "justify_content": null,
            "justify_items": null,
            "left": null,
            "margin": null,
            "max_height": null,
            "max_width": null,
            "min_height": null,
            "min_width": null,
            "object_fit": null,
            "object_position": null,
            "order": null,
            "overflow": null,
            "overflow_x": null,
            "overflow_y": null,
            "padding": null,
            "right": null,
            "top": null,
            "visibility": null,
            "width": null
          }
        },
        "1421fcef8a4f4cf4b47af8701eca4192": {
          "model_module": "@jupyter-widgets/controls",
          "model_name": "DescriptionStyleModel",
          "model_module_version": "1.5.0",
          "state": {
            "_model_module": "@jupyter-widgets/controls",
            "_model_module_version": "1.5.0",
            "_model_name": "DescriptionStyleModel",
            "_view_count": null,
            "_view_module": "@jupyter-widgets/base",
            "_view_module_version": "1.2.0",
            "_view_name": "StyleView",
            "description_width": ""
          }
        },
        "9179ae23fe984e01ab6b0513d598902e": {
          "model_module": "@jupyter-widgets/base",
          "model_name": "LayoutModel",
          "model_module_version": "1.2.0",
          "state": {
            "_model_module": "@jupyter-widgets/base",
            "_model_module_version": "1.2.0",
            "_model_name": "LayoutModel",
            "_view_count": null,
            "_view_module": "@jupyter-widgets/base",
            "_view_module_version": "1.2.0",
            "_view_name": "LayoutView",
            "align_content": null,
            "align_items": null,
            "align_self": null,
            "border": null,
            "bottom": null,
            "display": null,
            "flex": null,
            "flex_flow": null,
            "grid_area": null,
            "grid_auto_columns": null,
            "grid_auto_flow": null,
            "grid_auto_rows": null,
            "grid_column": null,
            "grid_gap": null,
            "grid_row": null,
            "grid_template_areas": null,
            "grid_template_columns": null,
            "grid_template_rows": null,
            "height": null,
            "justify_content": null,
            "justify_items": null,
            "left": null,
            "margin": null,
            "max_height": null,
            "max_width": null,
            "min_height": null,
            "min_width": null,
            "object_fit": null,
            "object_position": null,
            "order": null,
            "overflow": null,
            "overflow_x": null,
            "overflow_y": null,
            "padding": null,
            "right": null,
            "top": null,
            "visibility": null,
            "width": null
          }
        },
        "1f20971790cf4b26aa07af56e7982617": {
          "model_module": "@jupyter-widgets/controls",
          "model_name": "ProgressStyleModel",
          "model_module_version": "1.5.0",
          "state": {
            "_model_module": "@jupyter-widgets/controls",
            "_model_module_version": "1.5.0",
            "_model_name": "ProgressStyleModel",
            "_view_count": null,
            "_view_module": "@jupyter-widgets/base",
            "_view_module_version": "1.2.0",
            "_view_name": "StyleView",
            "bar_color": null,
            "description_width": ""
          }
        },
        "96097549f2df408c9973f12a387f801d": {
          "model_module": "@jupyter-widgets/base",
          "model_name": "LayoutModel",
          "model_module_version": "1.2.0",
          "state": {
            "_model_module": "@jupyter-widgets/base",
            "_model_module_version": "1.2.0",
            "_model_name": "LayoutModel",
            "_view_count": null,
            "_view_module": "@jupyter-widgets/base",
            "_view_module_version": "1.2.0",
            "_view_name": "LayoutView",
            "align_content": null,
            "align_items": null,
            "align_self": null,
            "border": null,
            "bottom": null,
            "display": null,
            "flex": null,
            "flex_flow": null,
            "grid_area": null,
            "grid_auto_columns": null,
            "grid_auto_flow": null,
            "grid_auto_rows": null,
            "grid_column": null,
            "grid_gap": null,
            "grid_row": null,
            "grid_template_areas": null,
            "grid_template_columns": null,
            "grid_template_rows": null,
            "height": null,
            "justify_content": null,
            "justify_items": null,
            "left": null,
            "margin": null,
            "max_height": null,
            "max_width": null,
            "min_height": null,
            "min_width": null,
            "object_fit": null,
            "object_position": null,
            "order": null,
            "overflow": null,
            "overflow_x": null,
            "overflow_y": null,
            "padding": null,
            "right": null,
            "top": null,
            "visibility": null,
            "width": null
          }
        },
        "bdc7221f414148b2a3269b2df2815767": {
          "model_module": "@jupyter-widgets/controls",
          "model_name": "DescriptionStyleModel",
          "model_module_version": "1.5.0",
          "state": {
            "_model_module": "@jupyter-widgets/controls",
            "_model_module_version": "1.5.0",
            "_model_name": "DescriptionStyleModel",
            "_view_count": null,
            "_view_module": "@jupyter-widgets/base",
            "_view_module_version": "1.2.0",
            "_view_name": "StyleView",
            "description_width": ""
          }
        }
      }
    }
  },
  "cells": [
    {
      "cell_type": "markdown",
      "metadata": {
        "id": "view-in-github",
        "colab_type": "text"
      },
      "source": [
        "<a href=\"https://colab.research.google.com/github/GuidoGiacomoMussini/SocialNetworkAnalysis--Algorithm/blob/main/Mnist_SNA.ipynb\" target=\"_parent\"><img src=\"https://colab.research.google.com/assets/colab-badge.svg\" alt=\"Open In Colab\"/></a>"
      ]
    },
    {
      "cell_type": "markdown",
      "source": [
        "# **0 - Initialization**"
      ],
      "metadata": {
        "id": "cltHRsg03gRx"
      }
    },
    {
      "cell_type": "markdown",
      "source": [
        "## 0.1 - Libraries"
      ],
      "metadata": {
        "id": "DDYYLpIa3qkl"
      }
    },
    {
      "cell_type": "code",
      "execution_count": 101,
      "metadata": {
        "id": "SbzzAp0UfFmd"
      },
      "outputs": [],
      "source": [
        "import os\n",
        "import shutil\n",
        "from glob import glob\n",
        "\n",
        "import pandas as pd\n",
        "import numpy as np\n",
        "import math\n",
        "\n",
        "import matplotlib.pyplot as plt\n",
        "%matplotlib inline\n",
        "import random\n",
        "from sklearn.datasets import fetch_openml\n",
        "from sklearn.model_selection import train_test_split\n",
        "import numpy as np\n",
        "import matplotlib.pyplot as plt\n",
        "from PIL import Image\n",
        "\n",
        "import random as rnd\n",
        "from IPython.display import clear_output \n",
        "from tqdm.notebook import tqdm_notebook\n",
        "from collections import defaultdict, Counter, OrderedDict\n",
        "import torch\n",
        "import torchvision\n",
        "import torchvision.transforms as T\n",
        "import torchvision.transforms.functional as Tf\n",
        "from keras.datasets import mnist\n",
        "\n",
        "\n",
        "import networkx as nx\n",
        "\n",
        "import seaborn as sns\n",
        "\n",
        "from sklearn import metrics\n",
        "from sklearn.metrics import classification_report"
      ]
    },
    {
      "cell_type": "markdown",
      "source": [
        "## 0.2 - Functions"
      ],
      "metadata": {
        "id": "p_0S2gvX3vNN"
      }
    },
    {
      "cell_type": "code",
      "source": [
        "#https://discuss.pytorch.org/t/how-to-show-a-image-in-jupyter-notebook-with-pytorch-easily/1229/4?u=ataraxy\n",
        "def show(img):\n",
        "    npimg = img.numpy()\n",
        "    plt.imshow(np.transpose(npimg, (1, 2, 0)), interpolation='nearest')"
      ],
      "metadata": {
        "id": "5EiEE77AnxkS"
      },
      "execution_count": 102,
      "outputs": []
    },
    {
      "cell_type": "code",
      "source": [
        "def tensor_mean(tens):\n",
        "  ex = tens.numpy()\n",
        "  colmean = ex.mean(axis=1)\n",
        "  totmean = colmean.mean()\n",
        "  return totmean"
      ],
      "metadata": {
        "id": "H4834TouuonN"
      },
      "execution_count": 103,
      "outputs": []
    },
    {
      "cell_type": "code",
      "source": [
        "def metrics_definition(net_train, y_train):\n",
        "  links_list, nodes_list, density_list, centrality_list, clust_list, transitivity_list, label = [], [], [], [], [], [], []\n",
        "\n",
        "  for i in tqdm_notebook(range(len(net_train))):\n",
        "    dic =nx.degree_centrality(net_train[i]) \n",
        "    dic = list(dic.values())\n",
        "    centrality_list.append(np.mean(dic))\n",
        "    links_list.append(net_train[i].number_of_edges())\n",
        "    nodes_list.append(net_train[i].number_of_nodes())\n",
        "    density_list.append(nx.density(net_train[i]))\n",
        "    clust_list.append(nx.average_clustering(net_train[i]))\n",
        "    transitivity_list.append(nx.transitivity(net_train[i]))\n",
        "\n",
        "  train_df = pd.DataFrame( columns = ['links', 'nodes', 'density', 'centrality', 'clustering', 'transitivity'])\n",
        "  train_df['links'] = links_list\n",
        "  train_df['nodes'] = nodes_list\n",
        "  train_df['density'] = density_list\n",
        "  train_df['centrality'] = centrality_list\n",
        "  train_df['clustering'] = clust_list\n",
        "  train_df['transitivity'] = transitivity_list\n",
        "  train_df['label'] = y_train\n",
        "  return train_df"
      ],
      "metadata": {
        "id": "GbnzdTfRhX9V"
      },
      "execution_count": 104,
      "outputs": []
    },
    {
      "cell_type": "code",
      "source": [
        "def alg_mean(train_df, label1, label2):\n",
        "\n",
        "  avg_links_0, avg_nodes_0, avg_density_0, avg_centrality_0, avg_clust_0, avg_transitivity_0 = 0,0,0,0,0,0\n",
        "  avg_links_1, avg_nodes_1, avg_density_1, avg_centrality_1, avg_clust_1, avg_transitivity_1 = 0,0,0,0,0,0\n",
        "\n",
        "  avg_links_0 = train_df.loc[train_df['label'] == label1, 'links'].mean()\n",
        "  avg_nodes_0 = train_df.loc[train_df['label'] == label1, 'nodes'].mean()\n",
        "  avg_density_0 = train_df.loc[train_df['label'] == label1, 'density'].mean()\n",
        "  avg_centrality_0 = train_df.loc[train_df['label'] == label1, 'centrality'].mean()\n",
        "  avg_clust_0 = train_df.loc[train_df['label'] == label1, 'clustering'].mean()\n",
        "  avg_transitivity_0 = train_df.loc[train_df['label'] == label1, 'transitivity'].mean()\n",
        "\n",
        "  avg_links_1 = train_df.loc[train_df['label'] == label2, 'links'].mean()\n",
        "  avg_nodes_1 = train_df.loc[train_df['label'] == label2, 'nodes'].mean()\n",
        "  avg_density_1 = train_df.loc[train_df['label'] == label2, 'density'].mean()\n",
        "  avg_centrality_1 = train_df.loc[train_df['label'] == label2, 'centrality'].mean()\n",
        "  avg_clust_1 = train_df.loc[train_df['label'] == label2, 'clustering'].mean()\n",
        "  avg_transitivity_1 = train_df.loc[train_df['label'] == label2, 'transitivity'].mean()\n",
        "\n",
        "  tr_dist_0 = (avg_links_0, avg_nodes_0, avg_density_0, avg_centrality_0, avg_clust_0, avg_transitivity_0)\n",
        "  tr_dist_1 = (avg_links_1, avg_nodes_1, avg_density_1, avg_centrality_1, avg_clust_1, avg_transitivity_1)\n",
        "\n",
        "  return tr_dist_0, tr_dist_1"
      ],
      "metadata": {
        "id": "Bvv6V4n3i5hT"
      },
      "execution_count": 105,
      "outputs": []
    },
    {
      "cell_type": "code",
      "source": [
        "def array_to_tuple(test_df):\n",
        "  tpl_list = []\n",
        "\n",
        "  for i in range(len(test_df)):\n",
        "    tpl = test_df.loc[i]\n",
        "    tpl_list.append((tpl[0], tpl[1], tpl[2], tpl[3], tpl[4], tpl[5]))\n",
        "  return tpl_list"
      ],
      "metadata": {
        "id": "2h9CILC7kDcP"
      },
      "execution_count": 106,
      "outputs": []
    },
    {
      "cell_type": "code",
      "source": [
        "def prediction(tpl_list, label1, label2):\n",
        "  predicted = []\n",
        "  for i in range(len(tpl_list)): \n",
        "    one = math.dist(tr_dist_1, tpl_list[i])\n",
        "    zero = math.dist(tr_dist_0, tpl_list[i])\n",
        "    if one > zero: \n",
        "      predicted.append(label1)\n",
        "    else:\n",
        "      predicted.append(label2)\n",
        "  return predicted"
      ],
      "metadata": {
        "id": "wEXPABY-kkvw"
      },
      "execution_count": 107,
      "outputs": []
    },
    {
      "cell_type": "markdown",
      "source": [
        "# **1 -Dataset transformation**"
      ],
      "metadata": {
        "id": "5xDvVOGM32nr"
      }
    },
    {
      "cell_type": "markdown",
      "source": [
        "## 1.1 - prepare the data"
      ],
      "metadata": {
        "id": "3DLeUzjD4-tR"
      }
    },
    {
      "cell_type": "markdown",
      "source": [
        "import the dataset"
      ],
      "metadata": {
        "id": "__-5luUr3_pi"
      }
    },
    {
      "cell_type": "code",
      "source": [
        "(X_train, Y_train), (X_test, Y_test) = mnist.load_data()"
      ],
      "metadata": {
        "id": "hV8uZA4Nip_u"
      },
      "execution_count": 108,
      "outputs": []
    },
    {
      "cell_type": "markdown",
      "source": [
        "retrieve only the 3 and 5 images since they are the most mispredicted "
      ],
      "metadata": {
        "id": "Y9Q9xbjk4EIg"
      }
    },
    {
      "cell_type": "code",
      "source": [
        "x_train, y_train, x_test, y_test = [], [], [], []\n",
        "\n",
        "for i in range(len(X_train)): \n",
        "  if Y_train[i] == 5 or  Y_train[i] == 3:\n",
        "    x_train.append(X_train[i])\n",
        "    y_train.append(Y_train[i])\n",
        "\n",
        "for i in range(len(X_test)): \n",
        "  if Y_test[i] == 5 or  Y_test[i] == 3:\n",
        "    x_test.append(X_test[i])\n",
        "    y_test.append(Y_test[i])"
      ],
      "metadata": {
        "id": "Dax3VlPM3oRz"
      },
      "execution_count": 109,
      "outputs": []
    },
    {
      "cell_type": "markdown",
      "source": [
        "Transform the images into tensor\n",
        "\n",
        "\n",
        "*   greyscale\n",
        "*   horizontal flip in te_flp\n",
        "\n"
      ],
      "metadata": {
        "id": "EHctOmGS4PWv"
      }
    },
    {
      "cell_type": "code",
      "source": [
        "transform2 = T.Grayscale()\n",
        "x_tr, x_te, x_te_flp = [], [], []\n",
        "\n",
        "for i in range(len(x_train)): \n",
        "  x_tr.append(transform2(torch.tensor(x_train[i]).unsqueeze_(-1).permute(2,0,1)))\n",
        "\n",
        "for i in range(len(x_test)): \n",
        "  x_te_flp.append(Tf.hflip(torch.tensor(x_test[i]).unsqueeze_(-1).permute(2,0,1)))\n",
        "\n",
        "for i in range(len(x_test)): \n",
        "  x_te.append(torch.tensor(x_test[i]).unsqueeze_(-1).permute(2,0,1))"
      ],
      "metadata": {
        "id": "6XZwLHQTmM79"
      },
      "execution_count": 110,
      "outputs": []
    },
    {
      "cell_type": "markdown",
      "source": [
        "## 1.2 - define the Adj. Matrix"
      ],
      "metadata": {
        "id": "zBwP1JBW5Hso"
      }
    },
    {
      "cell_type": "markdown",
      "source": [
        "set to 'black' all the values smaller than the treshold (set to mean(matrix)\\10 in this case)"
      ],
      "metadata": {
        "id": "LY5hS6f94lvx"
      }
    },
    {
      "cell_type": "code",
      "source": [
        "#trasform x_ train in 255-0 form\n",
        "for tens in tqdm_notebook(range(len(x_tr))): \n",
        "  ex = x_tr[tens]\n",
        "  mean = tensor_mean(ex)\n",
        "  for h in range(ex.shape[1]): \n",
        "    for l in range(ex.shape[2]):\n",
        "\n",
        "      if h == l: \n",
        "        ex[0][h][l] = 0\n",
        "      elif ex[0][h][l] > mean*10: \n",
        "        ex[0][h][l] = 0 \n",
        "\n",
        "  x_tr[tens] = ex"
      ],
      "metadata": {
        "colab": {
          "base_uri": "https://localhost:8080/",
          "height": 49,
          "referenced_widgets": [
            "fdb5f5e46e224eebb3c6b95bb3966290",
            "77a3459924a347b9a1c0eebb112250e4",
            "076561c8d28b4a19a8f922a9f711abd5",
            "5589359eb3f446098c7c3b8aa2989cc8",
            "f793aa4512794ff7aa4ad283571720df",
            "df74bef57b644d3fac291f64e4f709a1",
            "89a34dcc40a945bf84252bba735dcfe6",
            "b3a1a4fb373240c8a8e4bfc49fc38b4b",
            "82e9188565db43c089e9e820f9c428ad",
            "f5eeeda2272546198910f6bceeea66e3",
            "feba04855b4c48208077b40f58bdf450"
          ]
        },
        "id": "Y5Y-fwXguczg",
        "outputId": "8bb74818-b993-4228-ff72-dfd16e694552"
      },
      "execution_count": 111,
      "outputs": [
        {
          "output_type": "display_data",
          "data": {
            "text/plain": [
              "  0%|          | 0/11552 [00:00<?, ?it/s]"
            ],
            "application/vnd.jupyter.widget-view+json": {
              "version_major": 2,
              "version_minor": 0,
              "model_id": "fdb5f5e46e224eebb3c6b95bb3966290"
            }
          },
          "metadata": {}
        }
      ]
    },
    {
      "cell_type": "code",
      "source": [
        "for tens in tqdm_notebook(range(len(x_te))): \n",
        "  ex = x_te[tens]\n",
        "  mean = tensor_mean(ex)\n",
        "  for h in range(ex.shape[1]): \n",
        "    for l in range(ex.shape[2]):\n",
        "\n",
        "      if h == l: \n",
        "        ex[0][h][l] = 0\n",
        "      elif ex[0][h][l] > mean*10: \n",
        "        ex[0][h][l] = 0 \n",
        "\n",
        "  x_te[tens] = ex"
      ],
      "metadata": {
        "colab": {
          "base_uri": "https://localhost:8080/",
          "height": 49,
          "referenced_widgets": [
            "53209590c91e47249e8c3eacce9f684e",
            "8c4d68afd71c423b9b8f1334c4e09342",
            "f3b56b4466b44ecc98412d721bddf3c3",
            "44e05fdd531949dfa2b03b0abf9c1fbc",
            "1cbea0143ee54d17ade2c8a6f7a75392",
            "0faea26ce20b4d0393610e2668c0519e",
            "b969d9f4d26c4c2cae95a701ed3856d9",
            "2c97f210592346fcade9b35b74b22675",
            "b5b8e3156353409a816d6dcd58f13137",
            "3f57940fc37d45aead5906b498d534ec",
            "b6754558399a49aab23cebffc7c0a4f2"
          ]
        },
        "id": "_FYVTEfextPN",
        "outputId": "f250080b-0235-4550-b93b-4d3755523b18"
      },
      "execution_count": 112,
      "outputs": [
        {
          "output_type": "display_data",
          "data": {
            "text/plain": [
              "  0%|          | 0/1902 [00:00<?, ?it/s]"
            ],
            "application/vnd.jupyter.widget-view+json": {
              "version_major": 2,
              "version_minor": 0,
              "model_id": "53209590c91e47249e8c3eacce9f684e"
            }
          },
          "metadata": {}
        }
      ]
    },
    {
      "cell_type": "code",
      "source": [
        "for tens in tqdm_notebook(range(len(x_te_flp))): \n",
        "  ex = x_te_flp[tens]\n",
        "  mean = tensor_mean(ex)\n",
        "  for h in range(ex.shape[1]): \n",
        "    for l in range(ex.shape[2]):\n",
        "\n",
        "      if h == l: \n",
        "        ex[0][h][l] = 0\n",
        "      elif ex[0][h][l] > mean*10: \n",
        "        ex[0][h][l] = 0 \n",
        "\n",
        "  x_te_flp[tens] = ex"
      ],
      "metadata": {
        "id": "mfI5X_cgx1gV",
        "colab": {
          "base_uri": "https://localhost:8080/",
          "height": 49,
          "referenced_widgets": [
            "e78cffc1f337468780d707d8006fc36a",
            "518a048d36864e76864953c6fb143e4c",
            "fe47923d2c314cf3b6a3373a153b466f",
            "04a447781293441d90e976e7269bc5a8",
            "6efd923f9deb40888e7bf52ac7dbffea",
            "4bc891d754194ab7981d50f47828d86f",
            "bfa526694f664f0ca744f043320344ba",
            "f17ff35e4a714083b1f3ece838875c3a",
            "129faf423e254f489e810565c4a85351",
            "a66569c6d53543d6bfc551bfca2cc3c8",
            "3733b499ecec4acca38e8137fdd71ae6"
          ]
        },
        "outputId": "eb725b48-2ba3-41c5-cfe6-3c9fd0d01fd4"
      },
      "execution_count": 113,
      "outputs": [
        {
          "output_type": "display_data",
          "data": {
            "text/plain": [
              "  0%|          | 0/1902 [00:00<?, ?it/s]"
            ],
            "application/vnd.jupyter.widget-view+json": {
              "version_major": 2,
              "version_minor": 0,
              "model_id": "e78cffc1f337468780d707d8006fc36a"
            }
          },
          "metadata": {}
        }
      ]
    },
    {
      "cell_type": "code",
      "source": [
        "show(torch.tensor(x_tr[1]))"
      ],
      "metadata": {
        "id": "w1l6FEd8ySdv",
        "colab": {
          "base_uri": "https://localhost:8080/",
          "height": 485
        },
        "outputId": "cdd64be7-339a-4902-ebd5-17a1101db8c3"
      },
      "execution_count": 114,
      "outputs": [
        {
          "output_type": "stream",
          "name": "stderr",
          "text": [
            "<ipython-input-114-0595a3ce1c85>:1: UserWarning: To copy construct from a tensor, it is recommended to use sourceTensor.clone().detach() or sourceTensor.clone().detach().requires_grad_(True), rather than torch.tensor(sourceTensor).\n",
            "  show(torch.tensor(x_tr[1]))\n"
          ]
        },
        {
          "output_type": "display_data",
          "data": {
            "text/plain": [
              "<Figure size 640x480 with 1 Axes>"
            ],
            "image/png": "[encoded data removed]"
          },
          "metadata": {}
        }
      ]
    },
    {
      "cell_type": "markdown",
      "source": [
        "reshape to obtain a Matrix"
      ],
      "metadata": {
        "id": "3H5a1WxN5aP8"
      }
    },
    {
      "cell_type": "code",
      "source": [
        "dim1, dim2 = 28, 28\n",
        "train, test, test_flp = [], [], []\n",
        "\n",
        "for i in range(len(x_tr)):\n",
        "  train.append(x_tr[i].reshape(dim1, dim2).numpy())\n",
        "\n",
        "for i in range(len(x_te)):\n",
        "  test.append(x_te[i].reshape(dim1, dim2).numpy())\n",
        "\n",
        "for i in range(len(x_te_flp)):\n",
        "  test_flp.append(x_te_flp[i].reshape(dim1, dim2).numpy())"
      ],
      "metadata": {
        "id": "MWZBHAbV6ss9"
      },
      "execution_count": 116,
      "outputs": []
    },
    {
      "cell_type": "code",
      "source": [
        "sns.heatmap(train[1])"
      ],
      "metadata": {
        "colab": {
          "base_uri": "https://localhost:8080/",
          "height": 447
        },
        "id": "izVv7fNNgdn8",
        "outputId": "d7cc2a3b-b401-4fdc-dc69-39ae2924650f"
      },
      "execution_count": 117,
      "outputs": [
        {
          "output_type": "execute_result",
          "data": {
            "text/plain": [
              "<Axes: >"
            ]
          },
          "metadata": {},
          "execution_count": 117
        },
        {
          "output_type": "display_data",
          "data": {
            "text/plain": [
              "<Figure size 640x480 with 2 Axes>"
            ],
            "image/png": "[encoded data removed]"
          },
          "metadata": {}
        }
      ]
    },
    {
      "cell_type": "markdown",
      "source": [
        "## 1.3 - Trasform the Adj. Matrices in to a network object"
      ],
      "metadata": {
        "id": "sCHLR15r5gn-"
      }
    },
    {
      "cell_type": "code",
      "source": [
        "net_train, net_test, net_test_flp = [], [], []\n",
        "\n",
        "for i in range(len(train)):\n",
        "  provnet = nx.from_numpy_array(train[i], parallel_edges=False, create_using=None)\n",
        "  provnet.remove_nodes_from(list(nx.isolates(provnet)))\n",
        "  net_train.append(provnet)\n",
        "\n",
        "for i in range(len(test)):\n",
        "  provnet = nx.from_numpy_array(test[i], parallel_edges=False, create_using=None)\n",
        "  provnet.remove_nodes_from(list(nx.isolates(provnet)))\n",
        "  net_test.append(provnet)\n",
        "\n",
        "for i in range(len(test_flp)):\n",
        "  provnet = nx.from_numpy_array(test_flp[i], parallel_edges=False, create_using=None)\n",
        "  provnet.remove_nodes_from(list(nx.isolates(provnet)))\n",
        "  net_test_flp.append(provnet)"
      ],
      "metadata": {
        "id": "G1Po5mmCg1zs"
      },
      "execution_count": 118,
      "outputs": []
    },
    {
      "cell_type": "markdown",
      "source": [
        "# **2 - Algorithm**"
      ],
      "metadata": {
        "id": "KDseHQ0q5r7k"
      }
    },
    {
      "cell_type": "markdown",
      "source": [
        "## 2.1 - Training "
      ],
      "metadata": {
        "id": "FV681OZJ52am"
      }
    },
    {
      "cell_type": "markdown",
      "source": [
        "derive the metrics"
      ],
      "metadata": {
        "id": "SmPJQ9Az5zaO"
      }
    },
    {
      "cell_type": "code",
      "source": [
        "train_df = metrics_definition(net_train, y_train)\n",
        "test_df = metrics_definition(net_test, y_test)\n",
        "test_flp_df = metrics_definition(net_test_flp, y_test)"
      ],
      "metadata": {
        "colab": {
          "base_uri": "https://localhost:8080/",
          "height": 113,
          "referenced_widgets": [
            "5f5619871246443ebc6ef78e4231c836",
            "c87bf51d385c446e86c1e02a3728391e",
            "4c85facae76c4757afcf53a053761780",
            "ad411d4c1e9e4bf0804ac65cab31b2bf",
            "4b9baab9a7f64088a543de4194c8843e",
            "54c7b0face9b4e4ca8df2bcdd0139edb",
            "869488516a3b4609b8a1ba1ac6d321a2",
            "ecc5088d80e5425c91c1dfc272875516",
            "780fc85098f0420a81c9b670afab8b7a",
            "4ea8d934283943e295450461b2a7814f",
            "784ff703fb4f4da19a7ef730f74069e1",
            "1680efa7c744414394e88732c2b1b9ef",
            "ce0a7774973246f59955bb07626013fa",
            "80365b6b46064e60b6a27bc5973ccc5c",
            "ea77cb20e3184d6abe3af58dad246a24",
            "24b4c271d779451db10c56c3e63ac799",
            "c3bc39f4ec7c4ef393eaf06f3f0cea8c",
            "fef3dc9477804d75a5a0c71334a4b855",
            "ee8002ba648f4e2d97f726e8d4205a95",
            "6e8c41fad9174b55a5308405c13a02b2",
            "b1ca371d2f544616b63ac7eff6fa300b",
            "6cd4383e863d44b19e5c77a0690da694",
            "531d8dad504249189477bc9bdf20529b",
            "a9e966c072dd4c13bd52dfd5ec5a9be3",
            "20b4dfc6bfd24e2680478fe8a8fe3021",
            "525618c804d04aaa8b18f588864e248b",
            "37d5d47da70948aeb2bcbbca9ed7ed9a",
            "52e29a406f6147abbe9d3062256ff209",
            "1421fcef8a4f4cf4b47af8701eca4192",
            "9179ae23fe984e01ab6b0513d598902e",
            "1f20971790cf4b26aa07af56e7982617",
            "96097549f2df408c9973f12a387f801d",
            "bdc7221f414148b2a3269b2df2815767"
          ]
        },
        "id": "ZJwrHuRvhWTX",
        "outputId": "1f752df4-7c50-4ce7-8a5f-35c3ef8c2acc"
      },
      "execution_count": 120,
      "outputs": [
        {
          "output_type": "display_data",
          "data": {
            "text/plain": [
              "  0%|          | 0/11552 [00:00<?, ?it/s]"
            ],
            "application/vnd.jupyter.widget-view+json": {
              "version_major": 2,
              "version_minor": 0,
              "model_id": "5f5619871246443ebc6ef78e4231c836"
            }
          },
          "metadata": {}
        },
        {
          "output_type": "display_data",
          "data": {
            "text/plain": [
              "  0%|          | 0/1902 [00:00<?, ?it/s]"
            ],
            "application/vnd.jupyter.widget-view+json": {
              "version_major": 2,
              "version_minor": 0,
              "model_id": "1680efa7c744414394e88732c2b1b9ef"
            }
          },
          "metadata": {}
        },
        {
          "output_type": "display_data",
          "data": {
            "text/plain": [
              "  0%|          | 0/1902 [00:00<?, ?it/s]"
            ],
            "application/vnd.jupyter.widget-view+json": {
              "version_major": 2,
              "version_minor": 0,
              "model_id": "531d8dad504249189477bc9bdf20529b"
            }
          },
          "metadata": {}
        }
      ]
    },
    {
      "cell_type": "markdown",
      "source": [
        "train the algorithm"
      ],
      "metadata": {
        "id": "FEnt2EHkPBHM"
      }
    },
    {
      "cell_type": "code",
      "source": [
        "tr_dist_0, tr_dist_1 = alg_mean(train_df, 3, 5)\n",
        "te_dist_0, te_dist_1 = alg_mean(test_df, 3, 5)\n",
        "te_flp_dist_0, te_flp_dist_1 = alg_mean(test_flp_df, 3, 5)"
      ],
      "metadata": {
        "id": "g_eUiP7Ph1Yq"
      },
      "execution_count": 121,
      "outputs": []
    },
    {
      "cell_type": "markdown",
      "source": [
        "transform the results in tuples"
      ],
      "metadata": {
        "id": "wa4TOo1NPFZa"
      }
    },
    {
      "cell_type": "code",
      "source": [
        "tpl_te_list = array_to_tuple(test_df)\n",
        "tpl_te_flp_list = array_to_tuple(test_flp_df)"
      ],
      "metadata": {
        "id": "T8Ztwf_3kQSX"
      },
      "execution_count": 122,
      "outputs": []
    },
    {
      "cell_type": "markdown",
      "source": [
        "## 2.2 - Prediction"
      ],
      "metadata": {
        "id": "yunbkPQV6BdC"
      }
    },
    {
      "cell_type": "code",
      "source": [
        "predict_te, predict_te_flp = prediction(tpl_te_list, 3, 5), prediction(tpl_te_flp_list, 3, 5)"
      ],
      "metadata": {
        "id": "j7MqiPhNk0Gl"
      },
      "execution_count": 123,
      "outputs": []
    },
    {
      "cell_type": "markdown",
      "source": [
        "Results"
      ],
      "metadata": {
        "id": "ImYD19g76GTB"
      }
    },
    {
      "cell_type": "code",
      "source": [
        "ytest = test_df['label']\n",
        "ytest_flp = test_flp_df['label']\n",
        "\n",
        "cnf_test = metrics.confusion_matrix(ytest, predict_te)\n",
        "report_te = metrics.classification_report(ytest, predict_te)\n",
        "\n",
        "\n",
        "cnf_test_flp = metrics.confusion_matrix(ytest, predict_te_flp)\n",
        "report_te_flp = metrics.classification_report(ytest, predict_te_flp)\n"
      ],
      "metadata": {
        "id": "lCXk5tkYlBK-"
      },
      "execution_count": 124,
      "outputs": []
    },
    {
      "cell_type": "code",
      "source": [
        "print(\"----------------------------TEST--------------------------------\\n\")\n",
        "print(report_te, \"\\n Confusion matrix \\n\", cnf_test)\n",
        "print(\"\\n---------------------------------------------------------------- \")\n",
        "print(\"---------------------------------------------------------------- \\n\")\n",
        "print(\"----------------------------FLIP TEST---------------------------\\n\")\n",
        "print(report_te_flp, \"\\n Confusion matrix \\n\", cnf_test_flp)"
      ],
      "metadata": {
        "id": "LSYYtcr2lR63"
      },
      "execution_count": null,
      "outputs": []
    },
    {
      "cell_type": "code",
      "source": [
        "cnf_test_flp, print(report_te_flp)"
      ],
      "metadata": {
        "id": "UywaphwAlTpV"
      },
      "execution_count": null,
      "outputs": []
    }
  ]
}